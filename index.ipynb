{
  "cells": [
    {
      "cell_type": "markdown",
      "metadata": {
        "id": "view-in-github",
        "colab_type": "text"
      },
      "source": [
        "<a href=\"https://colab.research.google.com/github/olewejoseph/git_practice/blob/master/index.ipynb\" target=\"_parent\"><img src=\"https://colab.research.google.com/assets/colab-badge.svg\" alt=\"Open In Colab\"/></a>"
      ]
    },
    {
      "cell_type": "markdown",
      "metadata": {
        "id": "4Mi5X_dCT44c"
      },
      "source": [
        "# Python Essentials - Cumulative Lab\n",
        "\n",
        "## Introduction\n",
        "\n",
        "Congratulations, you made it through the new content for the first section of the prework! This cumulative lab will help you review and practice everything you've learned in this section — \"putting it all together\" into an analysis with real-world data.\n",
        "\n",
        "## Objectives\n",
        "You will be able to:\n",
        "\n",
        " - Recall the data types covered so far\n",
        " - Practice extracting information from a nested dataset\n",
        " - Practice generating insights with conditional logic\n",
        "\n",
        "## Your Task: Analyze Amazon Review Data\n",
        "\n",
        "For this lab we are going to be working with data collected by Computer Science researchers at the University of California, San Diego. Their full paper citation is here:\n",
        "> **Justifying recommendations using distantly-labeled reviews and fined-grained aspects**\n",
        "Jianmo Ni, Jiacheng Li, Julian McAuley\n",
        "Empirical Methods in Natural Language Processing (EMNLP), 2019\n",
        "[pdf](http://cseweb.ucsd.edu/~jmcauley/pdfs/emnlp19a.pdf)\n",
        "\n",
        "We are using a cleaned-up sample version of their [full dataset](https://nijianmo.github.io/amazon/index.html), which contains over 200 million reviews of products on Amazon.com. Specifically, a subset of reviews from the Home and Kitchen category about coffee-related products.\n",
        "\n",
        "![coffee preparation](https://curriculum-content.s3.amazonaws.com/data-science/images/coffee.jpg)\n",
        "\n",
        "<span>Photo by <a href=\"https://unsplash.com/@kfred?utm_source=unsplash&amp;utm_medium=referral&amp;utm_content=creditCopyText\">Karl Fredrickson</a> on <a href=\"https://unsplash.com/?utm_source=unsplash&amp;utm_medium=referral&amp;utm_content=creditCopyText\">Unsplash</a></span>\n",
        "\n",
        "### Requirements\n",
        "\n",
        "#### 1. Data Summary\n",
        "Write code that describes the number of records (dictionaries) in the dataset, as well as the features (keys) contained in each record.\n",
        "\n",
        "#### 2. Review Selection\n",
        "Create a variable `review_index` that can be changed, so that your code will select any review from the collection in order to print out information.\n",
        "\n",
        "#### 3. Review Summary\n",
        "\n",
        "##### a. Positive, Negative, or Neutral\n",
        "Print out information describing whether a review's rating is positive, negative, or neutral.\n",
        "\n",
        "##### b. Review Year\n",
        "Extract just the year from the review date\n",
        "\n",
        "##### c. BONUS: Image\n",
        "Use Jupyter Notebook functionality to display the first image from the review\n",
        "\n",
        "## Data Summary\n",
        "\n",
        "In the cell below, we've opened up the dataset and loaded it into a list of dictionaries called `reviews`."
      ]
    },
    {
      "cell_type": "code",
      "execution_count": 2,
      "metadata": {
        "id": "Q5bontpDT44f",
        "outputId": "e5d35838-f335-4238-a3c5-b088e5872e02",
        "colab": {
          "base_uri": "https://localhost:8080/"
        }
      },
      "outputs": [
        {
          "output_type": "execute_result",
          "data": {
            "text/plain": [
              "list"
            ]
          },
          "metadata": {},
          "execution_count": 2
        }
      ],
      "source": [
        "# Run this cell without changes\n",
        "import json\n",
        "with open(\"coffee_product_reviews.json\") as f:\n",
        "    reviews = json.load(f)\n",
        "type(reviews)"
      ]
    },
    {
      "cell_type": "markdown",
      "metadata": {
        "id": "LVwo0YmsT44g"
      },
      "source": [
        "In the cell below, delete `None` and replace it with appropriate code so the info printout is correct\n",
        "\n",
        "(In other words: when you're done, you should have code to find the number of entries in the `reviews` list, i.e. the size or length of the list)"
      ]
    },
    {
      "cell_type": "code",
      "execution_count": 6,
      "metadata": {
        "id": "2LDCIFvvT44g",
        "outputId": "699e8776-b5a7-48df-f8ad-b8cf7defea9f",
        "colab": {
          "base_uri": "https://localhost:8080/"
        }
      },
      "outputs": [
        {
          "output_type": "execute_result",
          "data": {
            "text/plain": [
              "27"
            ]
          },
          "metadata": {},
          "execution_count": 6
        }
      ],
      "source": [
        "# Replace None with appropriate code\n",
        "num_reviews = len(\"coffee_product_reviews.json\")\n",
        "num_reviews"
      ]
    },
    {
      "cell_type": "code",
      "execution_count": 7,
      "metadata": {
        "id": "P5LGxvRvT44g",
        "outputId": "4604bf5b-b630-4024-e230-0c769af65d85",
        "colab": {
          "base_uri": "https://localhost:8080/"
        }
      },
      "outputs": [
        {
          "output_type": "stream",
          "name": "stdout",
          "text": [
            "The coffee product review dataset contains 27 reviews\n"
          ]
        }
      ],
      "source": [
        "# Run this cell without changes\n",
        "print(\"The coffee product review dataset contains {} reviews\".format(num_reviews))"
      ]
    },
    {
      "cell_type": "markdown",
      "metadata": {
        "id": "nq24xZHIT44g"
      },
      "source": [
        "Ok, so now we know how many records we are working with! Let's investigate what each record looks like. In the cell below, replace `None` with appropriate code to select the first review"
      ]
    },
    {
      "cell_type": "code",
      "execution_count": 15,
      "metadata": {
        "id": "FUuym4SYT44g",
        "outputId": "1cdf137e-e71a-4643-a966-ac411d0c6e6b",
        "colab": {
          "base_uri": "https://localhost:8080/"
        }
      },
      "outputs": [
        {
          "output_type": "execute_result",
          "data": {
            "text/plain": [
              "{'rating': 5.0,\n",
              " 'reviewer_name': 'Sns073194',\n",
              " 'product_id': 'B00004RFRV',\n",
              " 'review_title': 'Perfect cafsito every time',\n",
              " 'review_time': '03 11, 2018',\n",
              " 'images': ['https://images-na.ssl-images-amazon.com/images/I/71d2cQEgJsL._SY88.jpg'],\n",
              " 'styles': {'Size:': ' 6-Cup', 'Color:': ' Silver'}}"
            ]
          },
          "metadata": {},
          "execution_count": 15
        }
      ],
      "source": [
        "# Replace None with appropriate code\n",
        "first_review = reviews[0]\n",
        "first_review"
      ]
    },
    {
      "cell_type": "markdown",
      "metadata": {
        "id": "fO_zJhFOT44g"
      },
      "source": [
        "Now we can check out the keys:"
      ]
    },
    {
      "cell_type": "code",
      "execution_count": 16,
      "metadata": {
        "id": "HDpzNP07T44g",
        "outputId": "4b580af9-c721-4d4f-d871-48d7a688a51e",
        "colab": {
          "base_uri": "https://localhost:8080/"
        }
      },
      "outputs": [
        {
          "output_type": "execute_result",
          "data": {
            "text/plain": [
              "dict_keys(['rating', 'reviewer_name', 'product_id', 'review_title', 'review_time', 'images', 'styles'])"
            ]
          },
          "metadata": {},
          "execution_count": 16
        }
      ],
      "source": [
        "# Run this cell without changes\n",
        "first_review.keys()"
      ]
    },
    {
      "cell_type": "markdown",
      "metadata": {
        "id": "Ihb5TIu7T44g"
      },
      "source": [
        "Before looking at the answer below, try to identify: **what data type are all of these keys?**\n",
        "\n",
        ".\n",
        "\n",
        ".\n",
        "\n",
        ".\n",
        "\n",
        "*Answer: They are all strings. We can tell because they are surrounded by single quotes, e.g. `'rating'`)*\n",
        "\n",
        "Now let's look at the values:"
      ]
    },
    {
      "cell_type": "code",
      "execution_count": 17,
      "metadata": {
        "id": "X8RBBHoAT44h",
        "outputId": "78a7eb7f-4d44-4078-b5aa-67973cca9fdf",
        "colab": {
          "base_uri": "https://localhost:8080/"
        }
      },
      "outputs": [
        {
          "output_type": "execute_result",
          "data": {
            "text/plain": [
              "dict_values([5.0, 'Sns073194', 'B00004RFRV', 'Perfect cafsito every time', '03 11, 2018', ['https://images-na.ssl-images-amazon.com/images/I/71d2cQEgJsL._SY88.jpg'], {'Size:': ' 6-Cup', 'Color:': ' Silver'}])"
            ]
          },
          "metadata": {},
          "execution_count": 17
        }
      ],
      "source": [
        "# Run this cell without changes\n",
        "first_review.values()"
      ]
    },
    {
      "cell_type": "markdown",
      "metadata": {
        "id": "N2jA3FUBT44h"
      },
      "source": [
        "Before looking at the answer below, try to identify: **what data type are all of these values?**\n",
        "\n",
        ".\n",
        "\n",
        ".\n",
        "\n",
        ".\n",
        "\n",
        "*Answer: We have a mix of values*\n",
        " - *The first one, `5.0`, is a float (no quotes or brackets, decimal place at the end)*\n",
        " - *The next four are strings*\n",
        " - *The fifth is a list. We can tell because it's surrounded by square brackets `[]`. Inside that list is a string.*\n",
        " - *The last one is a dictionary. We can tell because it's surrounded by curly braces `{}` and colons indicating key-value pairs. All of the keys and values are strings in this nested dictionary.*\n"
      ]
    },
    {
      "cell_type": "markdown",
      "metadata": {
        "id": "MxRmFJCkT44h"
      },
      "source": [
        "Finally, let's look at the first five reviews, all at once:"
      ]
    },
    {
      "cell_type": "code",
      "execution_count": 18,
      "metadata": {
        "id": "FcKzxhhCT44h",
        "outputId": "feb74f95-de48-49f1-e72c-67f4ab60861f",
        "colab": {
          "base_uri": "https://localhost:8080/"
        }
      },
      "outputs": [
        {
          "output_type": "stream",
          "name": "stdout",
          "text": [
            "{'rating': 5.0, 'reviewer_name': 'Sns073194', 'product_id': 'B00004RFRV', 'review_title': 'Perfect cafsito every time', 'review_time': '03 11, 2018', 'images': ['https://images-na.ssl-images-amazon.com/images/I/71d2cQEgJsL._SY88.jpg'], 'styles': {'Size:': ' 6-Cup', 'Color:': ' Silver'}}\n",
            "{'rating': 5.0, 'reviewer_name': 'Maverick', 'product_id': 'B00004RFRV', 'review_title': 'Delicious results from a wonderfully simple Bialetti Moka Express!', 'review_time': '12 3, 2017', 'images': ['https://images-na.ssl-images-amazon.com/images/I/61NG30sWdJL._SY88.jpg'], 'styles': {'Size:': ' 1-Cup', 'Color:': ' Silver'}}\n",
            "{'rating': 5.0, 'reviewer_name': 'Karen', 'product_id': 'B00004RFRV', 'review_title': 'Bialetti is the Best!', 'review_time': '11 12, 2017', 'images': ['https://images-na.ssl-images-amazon.com/images/I/81+XxFRGyBL._SY88.jpg'], 'styles': {'Size:': ' 12-Cup', 'Color:': ' Silver'}}\n",
            "{'rating': 5.0, 'reviewer_name': 'Feles (muy Mala)', 'product_id': 'B00004RFRV', 'review_title': 'Awesome portion control for one person!', 'review_time': '08 5, 2017', 'images': ['https://images-na.ssl-images-amazon.com/images/I/71BcwbkGyfL._SY88.jpg'], 'styles': {'Size:': ' 6-Cup', 'Color:': ' Purple'}}\n",
            "{'rating': 1.0, 'reviewer_name': 'EJ', 'product_id': 'B00004RFRV', 'review_title': 'Rusted spots everywhere fresh out the box...nasty', 'review_time': '06 4, 2017', 'images': ['https://images-na.ssl-images-amazon.com/images/I/71Dbr6X0bYL._SY88.jpg'], 'styles': {'Size:': ' 9-Cup', 'Color:': ' Silver'}}\n"
          ]
        }
      ],
      "source": [
        "# Run this cell without changes\n",
        "for index in range(5):\n",
        "    print(reviews[index])"
      ]
    },
    {
      "cell_type": "markdown",
      "metadata": {
        "id": "hL3zvswpT44h"
      },
      "source": [
        "It looks like each review has the same structure as the first one.\n",
        "\n",
        "Edit the string below to describe what we've learned about the dataset so far:"
      ]
    },
    {
      "cell_type": "code",
      "execution_count": null,
      "metadata": {
        "id": "h86z1LBdT44h"
      },
      "outputs": [],
      "source": [
        "# Replace <None> with an appropriate explanation\n",
        "\"\"\"\n",
        "For this analysis, we are using a dataset collected from Reviews left by Reviewers\n",
        "\n",
        "Each record represents a string\n",
        "\n",
        "There are a total of 5 records\n",
        "\n",
        "Each record has 7 keys, all of which are type Strings\n",
        "\n",
        "The values associated with these keys have mixed types: Strings, lists, dictionaries, and floats\n",
        "\"\"\""
      ]
    },
    {
      "cell_type": "markdown",
      "metadata": {
        "id": "7zURejeVT44h"
      },
      "source": [
        "## Review Selection\n",
        "\n",
        "Now that we have a general sense of what is contained in our dataset, let's implement a system for a user to be able to query for an individual record. For now, assume that the user can edit the value of a variable in this Jupyter Notebook.\n",
        "\n",
        "In the cell below, create a variable called `review_index` and set it to the value of `2`\n",
        "\n",
        "(Why are we bothering to use a variable, if we're just \"hard-coding\" it to 2? Because it's helpful to practice *parameterizing* our code, i.e. using variables that can have their values substituted rather than using the values directly.)"
      ]
    },
    {
      "cell_type": "code",
      "execution_count": 19,
      "metadata": {
        "id": "cud9YslDT44h"
      },
      "outputs": [],
      "source": [
        "review_index = 2"
      ]
    },
    {
      "cell_type": "markdown",
      "metadata": {
        "id": "E5-beHq6T44h"
      },
      "source": [
        "Now let's use that review index to create a variable `selected_review` that extracts the relevant review dictionary from the list of review dictionaries"
      ]
    },
    {
      "cell_type": "code",
      "execution_count": 20,
      "metadata": {
        "id": "Q5uKpB-XT44h",
        "outputId": "2afb12f1-1c77-42f1-d492-007251d503d7",
        "colab": {
          "base_uri": "https://localhost:8080/"
        }
      },
      "outputs": [
        {
          "output_type": "execute_result",
          "data": {
            "text/plain": [
              "{'rating': 5.0,\n",
              " 'reviewer_name': 'Karen',\n",
              " 'product_id': 'B00004RFRV',\n",
              " 'review_title': 'Bialetti is the Best!',\n",
              " 'review_time': '11 12, 2017',\n",
              " 'images': ['https://images-na.ssl-images-amazon.com/images/I/81+XxFRGyBL._SY88.jpg'],\n",
              " 'styles': {'Size:': ' 12-Cup', 'Color:': ' Silver'}}"
            ]
          },
          "metadata": {},
          "execution_count": 20
        }
      ],
      "source": [
        "# Replace None with appropriate code\n",
        "selected_review = reviews[review_index]\n",
        "selected_review"
      ]
    },
    {
      "cell_type": "markdown",
      "metadata": {
        "id": "wgcUIynUT44h"
      },
      "source": [
        "## Review Summary\n",
        "\n",
        "So far we have investigated the structure of our data, and written reusable code to extract a single review from the list. This allowed us to practice identifying data types and extracting information from nested lists and dictionaries.\n",
        "\n",
        "Now it's time to practice two other key skills: **conditionals** and **string parsing** (and optionally, learn how to display images with Python code in a Jupyter Notebook).\n",
        "\n",
        "We'll do this by **writing code to summarize a given review dictionary** in a more user-friendly way than the original raw dictionary format, practicing some data cleaning along the way.\n",
        "\n",
        "### Positive, Negative, or Neutral\n",
        "\n",
        "Using conditionals, let's display whether a given review is positive, negative, or neutral based on the value associated with the `rating` key. We'll use the following definitions:\n",
        "\n",
        " - Positive: `rating` value of 4 or 5 (out of 5)\n",
        " - Neutral: `rating` value of 3 (out of 5)\n",
        " - Negative: `rating` value of 1 or 2 (out of 5)\n",
        "\n",
        "Once you've found that value, print out: `This is a <blank> review` where `<blank>` is replaced with either `positive`, `negative`, or `neutral`.\n",
        "\n",
        "For example, with the current selection, the rating is 5.0, so we should print `This is a positive review`.\n",
        "\n",
        "First, let's extract the rating from the `selected_review` variable:"
      ]
    },
    {
      "cell_type": "code",
      "execution_count": 24,
      "metadata": {
        "id": "AIaqDKd-T44i",
        "outputId": "70c1ac70-1fc7-4d3c-fed6-f26c7312cbbc",
        "colab": {
          "base_uri": "https://localhost:8080/"
        }
      },
      "outputs": [
        {
          "output_type": "execute_result",
          "data": {
            "text/plain": [
              "1"
            ]
          },
          "metadata": {},
          "execution_count": 24
        }
      ],
      "source": [
        "# Replace None with appropriate code\n",
        "selected_rating = 1\n",
        "selected_rating"
      ]
    },
    {
      "cell_type": "markdown",
      "metadata": {
        "id": "mtB9-RftT44i"
      },
      "source": [
        "Now, in the cell below, write code using `selected_rating`, `if`, `elif` and `else` so that when `selected_rating` changes value, it will print out the right `This is a <blank> review` statement.\n",
        "\n",
        "(Again, since the current value of `selected_rating` == 5.0, your code should print out `This is a positive review`, but your code should be able to print different statements when `selected_rating` changes value!)"
      ]
    },
    {
      "cell_type": "code",
      "execution_count": 25,
      "metadata": {
        "id": "QxAEifUsT44i",
        "outputId": "64002b7f-d5fa-47b6-e176-937150ed4d1f",
        "colab": {
          "base_uri": "https://localhost:8080/"
        }
      },
      "outputs": [
        {
          "output_type": "stream",
          "name": "stdout",
          "text": [
            "This is a negative review\n"
          ]
        }
      ],
      "source": [
        "if selected_rating == 4 or selected_rating == 5:\n",
        "    print(\"This is a positive review\")\n",
        "\n",
        "elif selected_rating == 3:\n",
        "    print(\"This is a neutral review\")\n",
        "\n",
        "else:\n",
        "    print(\"This is a negative review\")"
      ]
    },
    {
      "cell_type": "markdown",
      "metadata": {
        "id": "7JIl6TJdT44i"
      },
      "source": [
        "Ok, now that this worked for a single example, let's try it out on a few others."
      ]
    },
    {
      "cell_type": "code",
      "execution_count": 32,
      "metadata": {
        "id": "PVgEA-uYT44i"
      },
      "outputs": [],
      "source": [
        "# Run this cell without changes\n",
        "review_index = 4\n",
        "selected_review = reviews[review_index]\n",
        "selected_rating = selected_review[\"rating\"]"
      ]
    },
    {
      "cell_type": "markdown",
      "metadata": {
        "id": "fw_fUJjWT44i"
      },
      "source": [
        "Paste your code from above to analyze the new selection. This one should say it's a negative review."
      ]
    },
    {
      "cell_type": "code",
      "execution_count": 33,
      "metadata": {
        "id": "aPh74Zy5T44i",
        "outputId": "a82b70c9-853b-4b0e-c096-cedeaea0cdc9",
        "colab": {
          "base_uri": "https://localhost:8080/"
        }
      },
      "outputs": [
        {
          "output_type": "stream",
          "name": "stdout",
          "text": [
            "This is a negative review\n"
          ]
        }
      ],
      "source": [
        "if selected_rating == 4 or selected_rating == 5:\n",
        "    print(\"This is a positive review\")\n",
        "\n",
        "elif selected_rating == 3:\n",
        "    print(\"This is a neutral review\")\n",
        "\n",
        "else:\n",
        "    print(\"This is a negative review\")"
      ]
    },
    {
      "cell_type": "markdown",
      "metadata": {
        "id": "deKyt2IoT44i"
      },
      "source": [
        "Let's try one more, which should say it's a neutral review."
      ]
    },
    {
      "cell_type": "code",
      "execution_count": 43,
      "metadata": {
        "id": "uQacA1qgT44i"
      },
      "outputs": [],
      "source": [
        "# Run this cell without changes\n",
        "review_index = 47\n",
        "selected_review = reviews[review_index]\n",
        "selected_rating = selected_review[\"rating\"]\n"
      ]
    },
    {
      "cell_type": "code",
      "execution_count": 35,
      "metadata": {
        "id": "8H-PAFDrT44i",
        "outputId": "15e19489-c4b5-4183-9d08-bdbe53dfef74",
        "colab": {
          "base_uri": "https://localhost:8080/"
        }
      },
      "outputs": [
        {
          "output_type": "stream",
          "name": "stdout",
          "text": [
            "This is a neutral review\n"
          ]
        }
      ],
      "source": [
        "if selected_rating == 4 or selected_rating == 5:\n",
        "    print(\"This is a positive review\")\n",
        "\n",
        "elif selected_rating == 3:\n",
        "    print(\"This is a neutral review\")\n",
        "\n",
        "else:\n",
        "    print(\"This is a negative review\")"
      ]
    },
    {
      "cell_type": "markdown",
      "metadata": {
        "id": "Q1O26N3iT44i"
      },
      "source": [
        "Great! We just practiced using conditionals to make a more user-friendly summary\n",
        "\n",
        "### Review Year\n",
        "\n",
        "While it may be less exciting than building machine learning models, a significant part of data science is data cleaning. Lets start to practice some data cleaning skills with the `review_time` key-value pairs.\n",
        "\n",
        "For the rest of this lab, we'll go ahead and set up three variables to represent the positive, negative, and neutral examples above.\n",
        "\n",
        "(Don't worry too much about this syntax; it uses \"unpacking\" and \"list comprehensions\", which we haven't covered yet.)"
      ]
    },
    {
      "cell_type": "code",
      "execution_count": 36,
      "metadata": {
        "id": "-ZdmdWVIT44i"
      },
      "outputs": [],
      "source": [
        "# Run this cell without changes\n",
        "\n",
        "selected_review_indices = (2, 4, 47)\n",
        "positive_review, negative_review, neutral_review = [reviews[i] for i in selected_review_indices]"
      ]
    },
    {
      "cell_type": "markdown",
      "metadata": {
        "id": "6HSrVYJAT44i"
      },
      "source": [
        "Now let's extract the `review_time` value from the positive review:"
      ]
    },
    {
      "cell_type": "code",
      "execution_count": 37,
      "metadata": {
        "id": "taur3CTNT44i",
        "outputId": "0ede9961-33e9-4ecd-c105-b08c979e66f3",
        "colab": {
          "base_uri": "https://localhost:8080/",
          "height": 35
        }
      },
      "outputs": [
        {
          "output_type": "execute_result",
          "data": {
            "text/plain": [
              "'11 12, 2017'"
            ],
            "application/vnd.google.colaboratory.intrinsic+json": {
              "type": "string"
            }
          },
          "metadata": {},
          "execution_count": 37
        }
      ],
      "source": [
        "# Run this cell without changes\n",
        "positive_review_time = positive_review[\"review_time\"]\n",
        "positive_review_time"
      ]
    },
    {
      "cell_type": "markdown",
      "metadata": {
        "id": "1dixEG1oT44i"
      },
      "source": [
        "Ok, it looks like this is is a string showing the month, the day, and then the year that the review was written. Write code to extract the last 4 characters of the string, then convert it into an integer"
      ]
    },
    {
      "cell_type": "code",
      "execution_count": 39,
      "metadata": {
        "id": "69ofQV74T44j"
      },
      "outputs": [],
      "source": [
        "# Replace None with appropriate code\n",
        "positive_review_year = int(positive_review_time[-4:])"
      ]
    },
    {
      "cell_type": "code",
      "execution_count": 40,
      "metadata": {
        "id": "sVXr94R-T44j",
        "outputId": "ae0f3494-a64b-40c6-cc5a-53834c07f77f",
        "colab": {
          "base_uri": "https://localhost:8080/"
        }
      },
      "outputs": [
        {
          "output_type": "execute_result",
          "data": {
            "text/plain": [
              "int"
            ]
          },
          "metadata": {},
          "execution_count": 40
        }
      ],
      "source": [
        "# Run this cell without changes\n",
        "# This should show `int`\n",
        "type(positive_review_year)"
      ]
    },
    {
      "cell_type": "markdown",
      "metadata": {
        "id": "UDf3_YaST44j"
      },
      "source": [
        "Repeat the same logic for the negative review and the neutral review"
      ]
    },
    {
      "cell_type": "code",
      "execution_count": 50,
      "metadata": {
        "id": "zOzJtY3CT44j",
        "outputId": "9c23b109-7bd0-4b42-b64f-a846e4b35d3b",
        "colab": {
          "base_uri": "https://localhost:8080/"
        }
      },
      "outputs": [
        {
          "output_type": "stream",
          "name": "stdout",
          "text": [
            "This was a negative review written by Julian in 2017.\n"
          ]
        }
      ],
      "source": [
        "positive_review_year = int(positive_review_time[-4:])\n",
        "negative_review_year = int(negative_review[\"review_time\"][-4:])\n",
        "neutral_review_year = int(neutral_review[\"review_time\"][-4:])\n",
        "if positive_review_year < 2017:\n",
        "    print(\"This was a positive review written by Karen in 2017.\")\n",
        "\n",
        "else:\n",
        "    print(\"This was a negative review written by Julian in 2017.\")"
      ]
    },
    {
      "cell_type": "code",
      "execution_count": 51,
      "metadata": {
        "id": "X0RmgPqGT44j",
        "outputId": "baec97b7-0ba8-4e40-eb5f-b66702d2bf8c",
        "colab": {
          "base_uri": "https://localhost:8080/"
        }
      },
      "outputs": [
        {
          "output_type": "stream",
          "name": "stdout",
          "text": [
            "This was a neutral review written by Karen in 2017.\n"
          ]
        }
      ],
      "source": [
        "positive_review_year = int(positive_review_time[-4:])\n",
        "negative_review_year = int(negative_review[\"review_time\"][-4:])\n",
        "neutral_review_year = int(neutral_review[\"review_time\"][-4:])\n",
        "if positive_review_year < 2017:\n",
        "    print(\"This was a positive review written by Karen in 2017.\")\n",
        "\n",
        "elif negative_review_year < 2017:\n",
        "    print(\"This was a negative review written by Julian in 2017.\")\n",
        "\n",
        "else:\n",
        "    print(\"This was a neutral review written by Karen in 2017.\")"
      ]
    },
    {
      "cell_type": "markdown",
      "metadata": {
        "id": "7AKnnVECT44j"
      },
      "source": [
        "### Bonus: Images\n",
        "\n",
        "(You can skip past this section if you want — this content will not be assessed.)\n",
        "\n",
        "One of the reasons Jupyter Notebooks are such a powerful data science tool is that they allow you to do a bit of web development without learning a new language beyond Python and Markdown. This entire notebook is just a complicated web page, and the information you've been printing out so far means you are creating dynamic web elements with your code!\n",
        "\n",
        "In addition to displaying the output of cells as strings of data, we can actually use Python to display images. We'll use the `Image` class from the `display` submodule of the `IPython` library, which is kind of like using the built-in `print` function to write text. There are a lot of other options in the `display` submodule that we won't cover, but you can read about them [here](https://ipython.readthedocs.io/en/stable/api/generated/IPython.display.html)."
      ]
    },
    {
      "cell_type": "code",
      "execution_count": null,
      "metadata": {
        "id": "HuEgH1aVT44j"
      },
      "outputs": [],
      "source": [
        "# Run this cell without changes\n",
        "from IPython.display import Image"
      ]
    },
    {
      "cell_type": "markdown",
      "metadata": {
        "id": "BNCQwrQPT44j"
      },
      "source": [
        "Here is an example of using the `Image` class with a hard-coded image:"
      ]
    },
    {
      "cell_type": "code",
      "execution_count": null,
      "metadata": {
        "id": "IWjeb0s7T44j"
      },
      "outputs": [],
      "source": [
        "# Run this cell without changes\n",
        "Image('https://www.google.com/images/branding/googlelogo/2x/googlelogo_color_272x92dp.png')"
      ]
    },
    {
      "cell_type": "markdown",
      "metadata": {
        "id": "hauId8kgT44j"
      },
      "source": [
        "Recall that our data contains links to images:"
      ]
    },
    {
      "cell_type": "code",
      "execution_count": null,
      "metadata": {
        "id": "Lu-7RzqWT44j"
      },
      "outputs": [],
      "source": [
        "# Run this cell without changes\n",
        "positive_review"
      ]
    },
    {
      "cell_type": "markdown",
      "metadata": {
        "id": "Evzg8TAgT44k"
      },
      "source": [
        "The image link is a string, contained in a list, associated with the key `images`, so we'll extract it like this:"
      ]
    },
    {
      "cell_type": "code",
      "execution_count": null,
      "metadata": {
        "id": "ZB6tKj7GT44k"
      },
      "outputs": [],
      "source": [
        "# Run this cell without changes\n",
        "positive_review_image_url = positive_review['images'][0]\n",
        "positive_review_image_url"
      ]
    },
    {
      "cell_type": "markdown",
      "metadata": {
        "id": "G5fxk-CJT44k"
      },
      "source": [
        "Now we can plug that into the `Image` tool:"
      ]
    },
    {
      "cell_type": "code",
      "execution_count": null,
      "metadata": {
        "id": "cGUhL657T44k"
      },
      "outputs": [],
      "source": [
        "# Run this cell without changes\n",
        "Image(positive_review_image_url)"
      ]
    },
    {
      "cell_type": "markdown",
      "metadata": {
        "id": "IS7_dPp7T44k"
      },
      "source": [
        "The same goes for the negative and neutral reviews:"
      ]
    },
    {
      "cell_type": "code",
      "execution_count": null,
      "metadata": {
        "id": "Co0gTUuVT44k"
      },
      "outputs": [],
      "source": [
        "# Run this cell without changes\n",
        "negative_review_image_url = negative_review['images'][0]\n",
        "Image(negative_review_image_url)"
      ]
    },
    {
      "cell_type": "code",
      "execution_count": null,
      "metadata": {
        "id": "qCrVV_DKT44k"
      },
      "outputs": [],
      "source": [
        "# Run this cell without changes\n",
        "neutral_review_image_url = neutral_review['images'][0]\n",
        "Image(neutral_review_image_url)"
      ]
    },
    {
      "cell_type": "markdown",
      "metadata": {
        "id": "duMhAPtmT44k"
      },
      "source": [
        "### Bringing It All Together\n",
        "\n",
        "Now that we have individually extracted all of the relevant pieces, let's display a complete review summary based on a specified `review_index`\n",
        "\n",
        "We'll use index `2` (the positive review) as an example, although someone using your notebook should be able to change just the value of `review_index` and the rest should automatically update."
      ]
    },
    {
      "cell_type": "code",
      "execution_count": null,
      "metadata": {
        "id": "8YXw7kkVT44k"
      },
      "outputs": [],
      "source": [
        "# Run this cell without changes\n",
        "review_index = 2"
      ]
    },
    {
      "cell_type": "markdown",
      "metadata": {
        "id": "_CL0RHmrT44k"
      },
      "source": [
        "The complete summary for index `2` should look like this:\n",
        "\n",
        "```\n",
        "\"Bialetti is the Best!\"\n",
        "This was a positive review written by Karen in 2017.\n",
        "```\n",
        "\n",
        "Optionally, it can also show the first associated image."
      ]
    },
    {
      "cell_type": "code",
      "execution_count": null,
      "metadata": {
        "id": "XAq32DarT44k"
      },
      "outputs": [],
      "source": [
        "# Your code here"
      ]
    },
    {
      "cell_type": "markdown",
      "metadata": {
        "id": "giN03CluT44k"
      },
      "source": [
        "## Conclusion\n",
        "\n",
        "In this cumulative lab, you practiced some of the skills you've learned so far using real-world data. Starting from a nested list of dictionaries (which also contained other lists and dictionaries), you were able to extract and transform data into a new format."
      ]
    }
  ],
  "metadata": {
    "kernelspec": {
      "display_name": "Python (learn-env)",
      "language": "python",
      "name": "learn-env"
    },
    "language_info": {
      "codemirror_mode": {
        "name": "ipython",
        "version": 3
      },
      "file_extension": ".py",
      "mimetype": "text/x-python",
      "name": "python",
      "nbconvert_exporter": "python",
      "pygments_lexer": "ipython3",
      "version": "3.8.5"
    },
    "colab": {
      "provenance": [],
      "include_colab_link": true
    }
  },
  "nbformat": 4,
  "nbformat_minor": 0
}